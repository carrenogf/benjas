{
 "cells": [
  {
   "cell_type": "code",
   "execution_count": 1,
   "id": "e461aee7",
   "metadata": {},
   "outputs": [],
   "source": [
    "import streamlit as st\n",
    "import firebase_admin\n",
    "from firebase_admin import credentials, firestore as admin_fs\n",
    "from google.cloud import firestore as gcfs  # para SERVER_TIMESTAMP\n",
    "\n",
    "# Inicializar Firebase Admin con credenciales de secrets\n",
    "if not firebase_admin._apps:\n",
    "    cred = credentials.Certificate(dict(st.secrets[\"FIREBASE\"]))\n",
    "    firebase_admin.initialize_app(cred)\n",
    "\n",
    "db = admin_fs.client()\n",
    "\n",
    "# Ejemplo: crear un producto de prueba\n",
    "def crear_producto_demo():\n",
    "    doc = {\n",
    "        \"nombre\": \"Corte clásico\",\n",
    "        \"tipo\": \"servicio\",\n",
    "        \"precio_centavos\": 60000,\n",
    "        \"categoria\": \"cortes\",\n",
    "        \"activo\": True,\n",
    "        \"created_at\": gcfs.SERVER_TIMESTAMP,\n",
    "        \"updated_at\": gcfs.SERVER_TIMESTAMP,\n",
    "    }\n",
    "    db.collection(\"productos\").add(doc)\n",
    "    return \"Producto demo creado\"\n",
    "\n",
    "# Llamá a crear_producto_demo() una sola vez para probar la conexión.\n"
   ]
  },
  {
   "cell_type": "code",
   "execution_count": 2,
   "id": "0d3a6585",
   "metadata": {},
   "outputs": [
    {
     "data": {
      "text/plain": [
       "'Producto demo creado'"
      ]
     },
     "execution_count": 2,
     "metadata": {},
     "output_type": "execute_result"
    }
   ],
   "source": [
    "crear_producto_demo()"
   ]
  },
  {
   "cell_type": "code",
   "execution_count": null,
   "id": "6264d67f",
   "metadata": {},
   "outputs": [],
   "source": []
  }
 ],
 "metadata": {
  "kernelspec": {
   "display_name": "Python 3",
   "language": "python",
   "name": "python3"
  },
  "language_info": {
   "codemirror_mode": {
    "name": "ipython",
    "version": 3
   },
   "file_extension": ".py",
   "mimetype": "text/x-python",
   "name": "python",
   "nbconvert_exporter": "python",
   "pygments_lexer": "ipython3",
   "version": "3.9.13"
  }
 },
 "nbformat": 4,
 "nbformat_minor": 5
}
